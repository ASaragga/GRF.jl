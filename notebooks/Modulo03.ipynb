{
 "cells": [
  {
   "cell_type": "markdown",
   "id": "3e409cd8-e9f6-40a0-8ba4-aa82d04e581f",
   "metadata": {},
   "source": [
    "# Módulo 3 - Medindo Retornos e Risco"
   ]
  },
  {
   "cell_type": "code",
   "execution_count": null,
   "id": "outside-tolerance",
   "metadata": {},
   "outputs": [],
   "source": [
    "# Dados\n",
    "using CSV              # Gravação/leitura de ficheiros em formato CSV\n",
    "using DataFrames       # Tabelas\n",
    "using Dates            # Datas\n",
    "\n",
    "# Gráficos\n",
    "using StatsPlots       # Gráficos \n",
    "\n",
    "# Estatistica\n",
    "using ARCHModels       # Modelos GARCH\n",
    "using Distributions    # Distribuições de probabilidade\n",
    "using HypothesisTests  # Testes de hipóteses\n",
    "using Random           # Simulação de variáveis aleatórias\n",
    "using Statistics       # Estatística descritiva, inclui cálculo de quantis\n",
    "\n",
    "# Matemática\n",
    "using LinearAlgebra    # Álgebra linear"
   ]
  },
  {
   "cell_type": "markdown",
   "id": "tight-lotus",
   "metadata": {},
   "source": [
    "Foi criada uma aplicação em Julia especialmente para a disciplina de Gestão de Riscos Financeiros chamada GRF.jl. Para a instalar podemos fazer, "
   ]
  },
  {
   "cell_type": "code",
   "execution_count": null,
   "id": "aboriginal-capacity",
   "metadata": {},
   "outputs": [],
   "source": [
    "#import Pkg\n",
    "#Pkg.add(url = \"https://github.com/ASaragga/GRF.jl\")\n",
    "using GRF"
   ]
  },
  {
   "cell_type": "markdown",
   "id": "13cc7dff-41cd-4417-b1ad-d810431e3386",
   "metadata": {},
   "source": [
    "#### Dados"
   ]
  },
  {
   "cell_type": "markdown",
   "id": "generic-anniversary",
   "metadata": {},
   "source": [
    "Ler ficheiros com (i) retornos das açoes incluidas no índice Dow Jones, assim como (Ii) um conjunto suplementar de ações (e.g. Tesla)"
   ]
  },
  {
   "cell_type": "code",
   "execution_count": null,
   "id": "genetic-advantage",
   "metadata": {},
   "outputs": [],
   "source": [
    "DJ30r = CSV.read(\"/Users/antonio/Documents/Universidade/GRF-2022/Dados/DJ30r.csv\", DataFrame);\n",
    "DIVr = CSV.read(\"/Users/antonio/Documents/Universidade/GRF-2022/Dados/DIVr.csv\", DataFrame);"
   ]
  },
  {
   "cell_type": "code",
   "execution_count": null,
   "id": "selected-calvin",
   "metadata": {},
   "outputs": [],
   "source": [
    "Datas = DJ30r[!,:Data];\n",
    "JPMorgan = DJ30r[!, :JPM];  # JP Morgan\n",
    "PG = DJ30r[!, :PG];         # Procter & Gamble\n",
    "Tesla = DIVr[!, :TSLA];     # Tesla"
   ]
  },
  {
   "cell_type": "markdown",
   "id": "reliable-processor",
   "metadata": {},
   "source": [
    "### Medida de Risco Total: Volatilidade "
   ]
  },
  {
   "cell_type": "markdown",
   "id": "boolean-shoulder",
   "metadata": {},
   "source": [
    "A volatilidade é o grau de dispersão de uma série cronológica de preços ao longo do tempo, geralmente medida pelo desvio padrão dos retornos logarítmicos."
   ]
  },
  {
   "cell_type": "code",
   "execution_count": null,
   "id": "established-offset",
   "metadata": {},
   "outputs": [],
   "source": [
    "plot(Datas, JPMorgan, legend = false, ylabel = \"Retornos diários JP Morgan\", framestyle=:box)"
   ]
  },
  {
   "cell_type": "code",
   "execution_count": null,
   "id": "unable-agent",
   "metadata": {},
   "outputs": [],
   "source": [
    "plot(Datas, PG, legend = false, ylabel = \"Retornos diários Procter & Gamble\", framestyle=:box)"
   ]
  },
  {
   "cell_type": "code",
   "execution_count": null,
   "id": "individual-basis",
   "metadata": {},
   "outputs": [],
   "source": [
    "plot(Datas, Tesla, legend = false, ylabel = \"Retornos diários Tesla\", framestyle=:box)"
   ]
  },
  {
   "cell_type": "code",
   "execution_count": null,
   "id": "boolean-distance",
   "metadata": {},
   "outputs": [],
   "source": [
    "println(\"σ(J.P.Morgan) = \", std(JPMorgan))\n",
    "println(\"σ(Procter & Gamble) = \", std(PG))\n",
    "println(\"σ(Tesla) = \",std(Tesla))"
   ]
  },
  {
   "cell_type": "markdown",
   "id": "brown-amount",
   "metadata": {},
   "source": [
    "### 1.2.2. Medidas de Risco de Perda: Valor-em-Risco (VaR) e Perda Esperada na Cauda (ETL)\n",
    "\n",
    "O **Valor-em-Risco**, ou VaR (*Value-at-Risk*) a um nível (α%), mede qual será a nossa perda mínima no caso de perdas tão severas que ocorrem apenas (α) por cento do tempo.\n",
    "\n",
    "A **Perda Esperada na Cauda**, ou ETL (*Expected Tail Loss*) a um nível (α%), mede qual será a nossa perda média no caso de perdas tão severas que ocorrem apenas (α) por cento do tempo. O ETL também é frequentemente denominado como *Expected Shortfall* (ES) ou *Conditional Value-at-Risk* (CVaR).\n",
    "\n",
    "Para uma dada carteira, as medidas de risco VaR e ETL são calculadas considerando (i) o valor atual ($V_0$) da carteira, (ii) um horizonte temporal ($T$), assim como (iii) um determinado quantil ($\\alpha$) de perdas, e (iv) pressupõem uma determinada distribuição de probabilidade (empírica ou analítica) para os retornos. \n",
    "\n",
    "$$\\text{VaR}(V_0,T,α):\\quad \\mathbb{P}[\\Delta V_T < - \\text{VaR}] = \\alpha$$\n",
    "\n",
    "$$\\text{ETL}(V_0,T,α):\\quad \\mathbb{E}[\\Delta V_T \\mid \\Delta V_T < - \\text{VaR}] = \\alpha$$\n",
    "\n",
    "Exemplo:\n",
    "* VaR(T=1 dia, α=5%) = 50 000 Eur, significa que existe uma probabilidade de 5% de num dia a carteira vir a ter uma perda superior a 50 000 Eur. \n",
    "* ETL(T=1 dia, α=5%) = 65 000 Eur, significa que para os 5% piores desempenhos diários, a carteira irá ter uma perda em média superior a 65 000 Eur."
   ]
  },
  {
   "cell_type": "markdown",
   "id": "hearing-stuart",
   "metadata": {},
   "source": [
    "As medidas de risco VaR e ETL têm quatro usos principais em finanças:\n",
    "* gestão de risco\n",
    "* controlo financeiro\n",
    "* relato financeiro \n",
    "* cálculo do capital regulatório"
   ]
  },
  {
   "cell_type": "markdown",
   "id": "scenic-authorization",
   "metadata": {},
   "source": [
    "## 1.3. Determinação do VaR e ETL"
   ]
  },
  {
   "cell_type": "markdown",
   "id": "great-crystal",
   "metadata": {},
   "source": [
    "Metodologias:\n",
    " * Abordagem empírica por simulação histórica\n",
    " * Abordagem paramétrica por simulação de Monte-Carlo\n",
    " * Abordagem paramétrica pelo método analítico"
   ]
  },
  {
   "cell_type": "code",
   "execution_count": null,
   "id": "quarterly-identification",
   "metadata": {},
   "outputs": [],
   "source": [
    "# Nos exemplos seguintes, o valor da carteira V = 1 000 000 USD e o α = 5.0%\n",
    "V = 1_000_000;  \n",
    "α = 0.05;"
   ]
  },
  {
   "cell_type": "markdown",
   "id": "logical-statement",
   "metadata": {},
   "source": [
    "### Simulação histórica"
   ]
  },
  {
   "cell_type": "markdown",
   "id": "5c239cf5-fcc0-47c9-bce1-b3622e82525d",
   "metadata": {},
   "source": [
    "#### VaR"
   ]
  },
  {
   "cell_type": "code",
   "execution_count": null,
   "id": "smaller-richards",
   "metadata": {},
   "outputs": [],
   "source": [
    "# Definição do VaR ao nível de significância α ou nível de confiança (1-α)\n",
    "VaR(retornos, α, V) = - (quantile(retornos,α) - mean(retornos)) * V"
   ]
  },
  {
   "cell_type": "code",
   "execution_count": null,
   "id": "guilty-garden",
   "metadata": {},
   "outputs": [],
   "source": [
    "println(\"VaR(JPMorgan) = \", VaR(JPMorgan, α, V), \" USD\")\n",
    "println(\"VaR(Procter & Gamble) = \", VaR(PG, α, V), \" USD\")\n",
    "println(\"VaR diário Tesla = \", VaR(Tesla, α, V), \" USD\")"
   ]
  },
  {
   "cell_type": "markdown",
   "id": "becoming-shock",
   "metadata": {},
   "source": [
    "#### ETL"
   ]
  },
  {
   "cell_type": "code",
   "execution_count": null,
   "id": "incident-stephen",
   "metadata": {},
   "outputs": [],
   "source": [
    "function ETL(retornos, alfa, V)\n",
    "    nobs = length(retornos)\n",
    "    corte = quantile(retornos, alfa)\n",
    "    excedimentos = 0\n",
    "    n_excedimentos = 0\n",
    "    for i in 1:nobs\n",
    "        if retornos[i] <= corte\n",
    "            excedimentos += retornos[i]\n",
    "            n_excedimentos += 1\n",
    "        end\n",
    "    end\n",
    "    return - (excedimentos/n_excedimentos - mean(retornos)) * V\n",
    "end"
   ]
  },
  {
   "cell_type": "markdown",
   "id": "aware-joyce",
   "metadata": {},
   "source": [
    "Cálculo da perda esperada na cauda diária por simulação histórica "
   ]
  },
  {
   "cell_type": "code",
   "execution_count": null,
   "id": "printable-interference",
   "metadata": {},
   "outputs": [],
   "source": [
    "alfa = 0.05\n",
    "V = 1_000_000\n",
    "println(\"ETL(JP Morgan) = USD \", ETL(JPMorgan, alfa, V))\n",
    "println(\"ETL(Procter & Gamble) = USD \", ETL(PG, alfa, V))\n",
    "println(\"ETL(Tesla) = USD \", ETL(Tesla, alfa, V))"
   ]
  },
  {
   "cell_type": "markdown",
   "id": "korean-olive",
   "metadata": {},
   "source": [
    "### Simulação de Monte-Carlo\n",
    "\n",
    "Distribuição, parâmetros estimados → Séries temporais simuladas de retornos → VaR, ETL\n",
    "\n",
    "- Estimar parâmetros da distribuição escolhida. Neste exemplo, iremos escolher uma distribuição Normal - que assumimos bem caracterizar a distribuição dos retornos - e estimar os seus parâmetros (μ, σ)\n",
    "- Utilizando a distribuição estimada, simulamos os retornos e a partir desses valores simulados calculamos o VaR"
   ]
  },
  {
   "cell_type": "markdown",
   "id": "closing-coverage",
   "metadata": {},
   "source": [
    "**Exemplo** Pretendemos obter estimativas para os VaRm diários com α=5%, de três carteiras no montante de EUR 500 000 de ações JP Morgan, Procter & Gamble e Tesla através da abordagem paramétrica por simulação de Monte-Carlo, assumindo distribuições Normais para os retornos das ações."
   ]
  },
  {
   "cell_type": "code",
   "execution_count": null,
   "id": "corresponding-pixel",
   "metadata": {},
   "outputs": [],
   "source": [
    "alfa = 0.05\n",
    "V = 500_000\n",
    "vJPMorgan = std(JPMorgan);\n",
    "vPG = std(PG);\n",
    "vTesla = std(Tesla);"
   ]
  },
  {
   "cell_type": "markdown",
   "id": "double-mother",
   "metadata": {},
   "source": [
    "De seguida, utilizando a função $\\texttt{rand}$, simulamos 5000 retornos diários gerados por distribuições Normais com médias zero e desvios-padrão iguais às volatilidades atrás calculadas,"
   ]
  },
  {
   "cell_type": "code",
   "execution_count": null,
   "id": "regulated-pitch",
   "metadata": {},
   "outputs": [],
   "source": [
    "simJPMorgan = rand(Normal(0, vJPMorgan), 5000)\n",
    "simPG = rand(Normal(0, vPG), 5000)\n",
    "simTesla = rand(Normal(0, vTesla), 5000)"
   ]
  },
  {
   "cell_type": "markdown",
   "id": "logical-sarah",
   "metadata": {},
   "source": [
    "Com base nos retornos simulados iremos agora calcular os VaR, de forma semelhante ao que fizemos através de simulação histórica. A diferença, claro, é que agora se tratam de retornos simulados e não de retornos históricos,"
   ]
  },
  {
   "cell_type": "code",
   "execution_count": null,
   "id": "finnish-platinum",
   "metadata": {},
   "outputs": [],
   "source": [
    "println(\"VaR(JP Morgan) = USD \", VaR(simJPMorgan, alfa, V))\n",
    "println(\"VaR(Procter & Gamble) = USD \", VaR(simPG, alfa, V))\n",
    "println(\"VaR(Tesla) = USD \", VaR(simTesla, alfa, V))"
   ]
  },
  {
   "cell_type": "markdown",
   "id": "choice-lighter",
   "metadata": {},
   "source": [
    "Uma vez obtidas as séries cronológicas para os retornos simulados das ações JP Morgan, Procter \\& Gamble e Tesla, podemos agora determinar o ETL por simulação de Monte-Carlo, também de forma semelhante ao que fizemos através da simulação histórica."
   ]
  },
  {
   "cell_type": "code",
   "execution_count": null,
   "id": "threaded-monaco",
   "metadata": {},
   "outputs": [],
   "source": [
    "println(\"ETL(JP Morgan) = USD \", ETL(simJPMorgan, alfa, V))\n",
    "println(\"ETL(Procter & Gamble) = USD \", ETL(simPG, alfa, V))\n",
    "println(\"ETL(Tesla) = USD \", ETL(Tesla, alfa, V))"
   ]
  },
  {
   "cell_type": "markdown",
   "id": "laden-introduction",
   "metadata": {},
   "source": [
    "### Método analítico"
   ]
  },
  {
   "cell_type": "markdown",
   "id": "initial-walter",
   "metadata": {},
   "source": [
    "Normalmente o VaR e ETL são calculados para horizontes temporais curtos, de 1-10 dias úteis. Uma vez que $\\mu_T\\approx 0$ e não existe uma forma objectiva de determinar $\\mu_T$,  é comum assumir-se que $\\mu_T = 0$. Nas análises subsequentes, tal como fizemos nas análises anteriores, iremos pois também assumir que o retorno esperado da carteira é igual a zero, ou seja que $\\mu_T = 0$, e que portanto o $\\text{VaR}_m$ e $\\text{VaR}_0$ coincidem.\n",
    "\n",
    "Dado $\\mu_T = 0$, nas abordagens paramétricas (método analítico e simulação de Monte-Carlo) a distribuição prospetiva de retornos $r_T$ será,\n",
    "$$r_T \\sim \\sigma_T\\times \\text{Distribuição}(0, 1)$$ \n",
    "Se a distribição for Normal, estaremos perante uma Normal standard. Assim, podemos exprimir o VaR da seguinte forma equivalente"
   ]
  },
  {
   "cell_type": "markdown",
   "id": "subject-berkeley",
   "metadata": {},
   "source": [
    "$$\\text{VaR} = - \\text{quantil}_\\alpha[r_T]  \\times V_0 = - \\sigma_T \\times \\text{quantil}_\\alpha[\\text{Distribuição}(0,1)]  \\times V_0$$"
   ]
  },
  {
   "cell_type": "markdown",
   "id": "suspected-index",
   "metadata": {},
   "source": [
    "Se não tivéssemos disponível a aplicação Julia, poderíamos nos socorrer de tabelas estatísticas que tabelam os quantis de distribuições padronizadas. Assim para as distribuições Normal e T-Student(6) padronizadas obteríamos os seguintes valores críticos $z_\\alpha\\equiv\\text{quantil}_\\alpha[\\text{Distribuição}(0,1)]$"
   ]
  },
  {
   "cell_type": "markdown",
   "id": "attached-sphere",
   "metadata": {},
   "source": [
    " quantil |    Nomal     | T-Student(6)\n",
    "---------------|--------------|--------------\n",
    "1.0%  |   -2.326     |   -3.143\n",
    "5.0%  |   -1.645     |   -1.943\n",
    "10.0%  |   -1.282     |   -1.440\n"
   ]
  },
  {
   "cell_type": "markdown",
   "id": "photographic-designer",
   "metadata": {},
   "source": [
    "$$\\text{VaR}_\\alpha = - z_\\alpha \\times \\sigma_T \\times V_0$$"
   ]
  },
  {
   "cell_type": "markdown",
   "id": "constant-complex",
   "metadata": {},
   "source": [
    "**Exemplo 1**. Pretendemos determinar o VaR diário do fundo de investimento Eureka de EUR 5.0 $\\times$ 10$^6$ para os níveis $\\alpha$ = 1.0\\% e 2.5\\%. A volatilidade diária foi estimada em 0.0065 e assume-se que uma Normal caracteriza bem a distribuição dos retornos.\n",
    "\n",
    "Para $\\alpha$ = 1.0\\% temos, VaR = -(-2.326) $\\times$ 0.0065 $\\times$ 5000000 = EUR 75595.00. Temos pois uma probabilidade de 1.0% de virmos a ter uma perda superior a EUR 75595.00 num prazo de um dia.\n",
    "\n",
    "Para $\\alpha$ = 2.5\\% não temos valores tabelados, mas claro podemos sempre utilizar a aplicação Julia,"
   ]
  },
  {
   "cell_type": "code",
   "execution_count": null,
   "id": "offshore-expense",
   "metadata": {},
   "outputs": [],
   "source": [
    "V = 5_000_000\n",
    "σ = 0.0065\n",
    "α = 0.025 \n",
    "VaR_Eureka= - quantile(Normal(0,1),α) * σ  * V\n",
    "\n",
    "println(\"VaR(2.5%) = EUR \", round(VaR_Eureka, digits = 2))\n",
    "# A função round(expressão, digits = n) arredonda o resultado da expressão a n dígitos"
   ]
  },
  {
   "cell_type": "markdown",
   "id": "noticed-vienna",
   "metadata": {},
   "source": [
    "### Agregação Temporal"
   ]
  },
  {
   "cell_type": "markdown",
   "id": "protecting-level",
   "metadata": {},
   "source": [
    "Para transformar o VaR de um horizonte temporal para um outro diferente é geralmente assumido que os retornos satisfazem as seguintes condições,\n",
    "* Temporalmente independentes, o que implica que $\\forall t, \\; \\text{cov}(r_t,r_{t-1})$ = 0\n",
    "* Identicamente Distribuídos, o que implica que $\\forall t, \\;\\mathbb{E}[r_t]=\\mu, \\text{Variância}[r_t] = \\sigma^2$\n",
    "\n",
    "A presunção de retornos independentes é consistente com a hipótese de eficiência de mercados. Podemos transformar a média e a volatilidade diárias num horizonte de T dias fazendo"
   ]
  },
  {
   "cell_type": "markdown",
   "id": "cutting-employment",
   "metadata": {},
   "source": [
    "$$\\mu_T = T \\times \\mu_\\text{dia}$$\n",
    "$$\\sigma_T = \\sqrt{T}\\times \\sigma_\\text{dia}$$\n",
    "Donde,"
   ]
  },
  {
   "cell_type": "markdown",
   "id": "blocked-affiliate",
   "metadata": {},
   "source": [
    "$$\\text{VaR}^T_\\alpha = - z_\\alpha \\times \\sqrt{T} \\times \\sigma_\\text{dia} \\times V_0 $$"
   ]
  },
  {
   "cell_type": "markdown",
   "id": "individual-intelligence",
   "metadata": {},
   "source": [
    "A condição de independência temporal poder ser testada através da estatística Q de [Ljung-Box](https://en.wikipedia.org/wiki/Ljung–Box_test), sendo a hipótese nula de independência da série cronológica. Função em Julia: ```LjungBoxTest(vetor_retornos, lag)```"
   ]
  },
  {
   "cell_type": "markdown",
   "id": "sized-amsterdam",
   "metadata": {},
   "source": [
    "**Exemplo 2**. O Fundo Eureka pretende agora determinar qual o VaR semanal da sua carteira a 1.0%.\n",
    "\n",
    "Como não dispomos da volatilidade semanal dos retornos, iremos utilizar a volatilidade diária e fazer agregação temporal. Primeiro iremos testar a condição de independência temporal dos retornos para a JP Morgan, Procter & Gamble e Tesla"
   ]
  },
  {
   "cell_type": "code",
   "execution_count": null,
   "id": "supposed-sending",
   "metadata": {},
   "outputs": [],
   "source": [
    "LjungBoxTest(JPMorgan, 2)"
   ]
  },
  {
   "cell_type": "code",
   "execution_count": null,
   "id": "muslim-reservation",
   "metadata": {},
   "outputs": [],
   "source": [
    "LjungBoxTest(PG, 2)"
   ]
  },
  {
   "cell_type": "code",
   "execution_count": null,
   "id": "shared-retail",
   "metadata": {},
   "outputs": [],
   "source": [
    "LjungBoxTest(Tesla, 2)"
   ]
  },
  {
   "cell_type": "markdown",
   "id": "engaged-drunk",
   "metadata": {},
   "source": [
    "O teste de Ljung-Box rejeita a independência temporal dos retornos da JP Morgan e Procter & Gamble, ao contrário do que se passa com os retornos da Tesla. A dependência temporal está de acordo com a existência de fortes agrupamentos de volatilidade para a JP Morgan e Procter & Gamble."
   ]
  },
  {
   "cell_type": "markdown",
   "id": "exclusive-guyana",
   "metadata": {},
   "source": [
    "Não obstante, iremos fazer a agregação temporal da volatilidade e considerando que uma semana tem 5 dias úteis teremos,\n",
    "$$\\text{VaR}^\\text{semanal}_\\alpha = -(-2.326) \\times \\sqrt{5} \\times 0.0065 \\times 5000000 = 169060.84$$"
   ]
  },
  {
   "cell_type": "code",
   "execution_count": null,
   "id": "physical-belize",
   "metadata": {},
   "outputs": [],
   "source": [
    "V = 5_000_000\n",
    "σ = 0.0065\n",
    "α = 0.01\n",
    "T = 5\n",
    "VaR_Eureka_semanal = - quantile(Normal(0,1),α) * sqrt(T) * σ  * V\n",
    "\n",
    "println(\"VaR(1.0%) semanal = EUR \", round(VaR_Eureka_semanal, digits = 2))"
   ]
  },
  {
   "cell_type": "markdown",
   "id": "portuguese-relative",
   "metadata": {},
   "source": [
    "### Procedimento de *Backtesting*"
   ]
  },
  {
   "cell_type": "markdown",
   "id": "broke-norwegian",
   "metadata": {},
   "source": [
    "O *backtesting* é um método geral para aquilatar como um modelo ou estratégia de negociação funcionaria à posteriori (*ex-post*), usando dados históricos. \n",
    "\n",
    "Ao testar uma ideia com dados históricos, é conveniente reservar um período de tempo de dados históricos apenas para fins de teste. Se o teste com dados fora da amostra for bem sucedido, tal poderá ajudar a confirmar a potencial viabilidade do modelo ou estratégia de negociação."
   ]
  },
  {
   "cell_type": "markdown",
   "id": "considered-vertex",
   "metadata": {},
   "source": [
    "A validação dos modelos / estratégias de negociação envolve a comparação das perdas históricas realizadas versus as perdas estimadas. No caso do VaR e ETL a comparação deverá ser efetuada calculando os hipotéticos retornos assumindo uma composição da carteira fixa no decorrer do horizonte temporal da análise. Esta validação pode ser feita confrontando o número de excepções observadas (no caso do VaR, o número de vezes em que a perda excedeu o VaR) com o nível de significância ($\\alpha$) e a dimensão da amostra. \n",
    "\n",
    "**Exemplo 4.** Se $\\alpha$ = 5.0\\% e o *backtest* é efetuado para 240 dias úteis, o número esperado de exceções será 0.05 $\\times$ 240 = 12. Iremos pois comparar este valor esperado com o número de exceções de fato observado."
   ]
  },
  {
   "cell_type": "markdown",
   "id": "classified-source",
   "metadata": {},
   "source": [
    "Para formalmente podermos aceitar ou rejeitar um modelo ou estratégia de negociação necessitamos de efetuar um teste estatístico formal. O objectivo é testar se o número de exceções é muito grande ou pequeno utilizando a distribuição da estatística de teste que visa distinguir se o modelo é incorreto ou se as exceções resultaram de \"má sorte\". Fonte: Risco de Mercado, Miguel Ferreira."
   ]
  },
  {
   "cell_type": "markdown",
   "id": "finite-karen",
   "metadata": {},
   "source": [
    "### 1.5.1. Teste do semáforo de Basileia"
   ]
  },
  {
   "cell_type": "markdown",
   "id": "judicial-beatles",
   "metadata": {},
   "source": [
    "Este teste, que é definido no Acordo de Basileia, consiste no cálculo do número de excepções diárias durante o último ano face à estimativa do VaR diário com $\\alpha$ = 1.0%. O comitê de Basileia definiu que até quatro exceções num ano (zona verde) é aceitável e que para dez ou mais exceções (zona vermelha) a penalização é automática. Com 5-9 exceções (zona amarela), a decisão é discricionária por parte do supervisor bancário."
   ]
  },
  {
   "attachments": {
    "TesteSemaforo.png": {
     "image/png": "[encoded data removed]"
    }
   },
   "cell_type": "markdown",
   "id": "bound-guyana",
   "metadata": {},
   "source": [
    "![TesteSemaforo.png](attachment:TesteSemaforo.png)"
   ]
  },
  {
   "cell_type": "markdown",
   "id": "collectible-layout",
   "metadata": {},
   "source": [
    "**Exemplo 5**. Pretendemos calcular o VaR diário a 1% para a Tesla de acordo com uma abordagem paramétrica, com dados para o último ano e aquilatar se este modelo iria passar o teste do semáforo de Basileia. Notemos que estamos a fazer uma análise dentro da amostra. Apesar disso, se por exemplo fizermos uma escolha desacertada para a distribuição que caracteriza os retornos, subestimando a probabilidade de eventos extremos, facilmente nos poderemos encontrar bastante fora da zona verda!\n",
    "\n",
    "Como o ficheiro Tesla.csv não tem informação sobre datas, iremos utilizar as últimas 252 observações.  \n",
    "1. Estimar o desvio-padrão da amostra\n",
    "2. Assumir uma distribuição normal\n",
    "3. Calcular o VaR, assumindo adicionalmente que $\\mu_T$=0.\n",
    "4. Calcular o número de exceções registadas face ao VaR que foi calculado em (3)\n",
    "5. Classificar o número de exceções calculado em (4) de acordo com o teste do semáforo de Basileia   "
   ]
  },
  {
   "cell_type": "code",
   "execution_count": null,
   "id": "outstanding-bailey",
   "metadata": {},
   "outputs": [],
   "source": [
    "Tesla252 = Tesla[end-251:end]  # criar amostra selecionando as 252 mais recentes observações"
   ]
  },
  {
   "cell_type": "code",
   "execution_count": null,
   "id": "higher-mouse",
   "metadata": {},
   "outputs": [],
   "source": [
    "GRF.semaforo(Tesla252,0.01)"
   ]
  },
  {
   "cell_type": "markdown",
   "id": "contrary-benefit",
   "metadata": {},
   "source": [
    "### 1.5.2. Teste de cobertura incondicional de Kupiec"
   ]
  },
  {
   "cell_type": "markdown",
   "id": "temporal-meditation",
   "metadata": {},
   "source": [
    "Denotemos por T o número de observações, por N o número de exceções e como habitual por α o nível de significância associado ao VaR. O teste de cobertura incondicional de Kupiec é dado por,"
   ]
  },
  {
   "cell_type": "code",
   "execution_count": null,
   "id": "aboriginal-disposition",
   "metadata": {},
   "outputs": [],
   "source": [
    "Kupiec(T, N, α) = -2 * log((1-α)^(T-N) * α^N) + 2 * log((1-N/T)^(T-N) * (N/T)^N);"
   ]
  },
  {
   "cell_type": "markdown",
   "id": "taken-intention",
   "metadata": {},
   "source": [
    "tendo uma distibuição chi-quadrado com um grau de liberdade. A hipótese nula é de que o modelo de VaR é adequado. O valor crítico a 5.0% é dado por,"
   ]
  },
  {
   "cell_type": "code",
   "execution_count": null,
   "id": "labeled-tomorrow",
   "metadata": {},
   "outputs": [],
   "source": [
    "zchi = quantile(Chisq(1),0.95)  # Calculamos o valor crítico a 5%"
   ]
  },
  {
   "cell_type": "markdown",
   "id": "hundred-evaluation",
   "metadata": {},
   "source": [
    "Se Kupiec > 3.841588 $\\rightarrow$ rejeitamos modelo VaR\n",
    "\n",
    "Se Kupied < 3.841588 $\\rightarrow$ não rejeitamos modelo VaR"
   ]
  },
  {
   "cell_type": "markdown",
   "id": "wound-virus",
   "metadata": {},
   "source": [
    "**Exemplo 6.** Será o nosso modelo muito simples para o VaR das ações Tesla criado no exercício 5. rejeitado pelo teste de cobertura incondicional de Kupiec?"
   ]
  },
  {
   "cell_type": "code",
   "execution_count": null,
   "id": "specific-empire",
   "metadata": {},
   "outputs": [],
   "source": [
    "T = 252\n",
    "N = 4\n",
    "α = 0.01\n",
    "TesteKupiec = Kupiec(T, N, α)"
   ]
  },
  {
   "cell_type": "markdown",
   "id": "competitive-sellers",
   "metadata": {},
   "source": [
    "TesteKupec < 3.841588, donde que não rejeitamos o modelo criado para calcular o VaR das ações Tesla!"
   ]
  },
  {
   "cell_type": "markdown",
   "id": "ambient-split",
   "metadata": {},
   "source": [
    "## Retornos: Regularidades Empíricas\n",
    "\n",
    "* Caudas pesadas (*fat tails*)\n",
    "* Agrupamentos de volatilidade (*volatility clusters*)\n",
    "* Dependência não-linear"
   ]
  },
  {
   "cell_type": "markdown",
   "id": "extreme-idaho",
   "metadata": {},
   "source": [
    "### Caudas pesadas"
   ]
  },
  {
   "cell_type": "markdown",
   "id": "configured-hardware",
   "metadata": {},
   "source": [
    "A existência de caudas pesadas (*fat tails*) sugere que se utilize outras distribuições, que não a Normal, com essa característica. Uma escolha popular é a distribuição T-Student com um número baixo de graus de liberdade."
   ]
  },
  {
   "cell_type": "markdown",
   "id": "vital-distributor",
   "metadata": {},
   "source": [
    "#### Gráficos QQ"
   ]
  },
  {
   "cell_type": "markdown",
   "id": "initial-chair",
   "metadata": {},
   "source": [
    "Uma forma visual de comparar a distribuição empírica com a distribuição teórica candidata à sua representação é através de gráficos quantil-quantil, ou mais abreviadamente QQ."
   ]
  },
  {
   "cell_type": "markdown",
   "id": "other-agriculture",
   "metadata": {},
   "source": [
    "Se pretendemos aquilatar numa primeira abordagem em que medida os retornos da (i) JP Morgan, (ii) Procter & Gamble e (iii) Tesla são bem representados por uma distribuição Normal, podemos comparar através de gráficos QQ os quantis das distribuições empíricas dos retornos destas ações com os quantis de uma distribuição Normal com idêntica média e desvio-padrão. "
   ]
  },
  {
   "cell_type": "markdown",
   "id": "concrete-release",
   "metadata": {},
   "source": [
    "**Exemplo 7.** Pretendemos inspecionar visualmente se uma distribuição Normal proporcionará uma boa caracterização das séries cronológicas de retornos das acções da JP Morgan, Procter & Gamble e Tesla. Para tal vamos padronizar as distribuições empíricas dos retornos subtraindo a média e dividindo pelo desvio padrão."
   ]
  },
  {
   "cell_type": "code",
   "execution_count": null,
   "id": "worth-documentation",
   "metadata": {},
   "outputs": [],
   "source": [
    "JPMorganP = (JPMorgan .- mean(JPMorgan))./std(JPMorgan);\n",
    "PGP = (PG .- mean(PG))./std(PG);\n",
    "TeslaP = (Tesla .- mean(Tesla))./std(Tesla);\n",
    "# utilizamos o ponto para aplicar uma operação ou função elemento-a-elemento de um vetor"
   ]
  },
  {
   "cell_type": "code",
   "execution_count": null,
   "id": "detected-feature",
   "metadata": {},
   "outputs": [],
   "source": [
    "qqplot(Normal(0, 1), JPMorganP, xlabel=\"Distribuição Normal(0,1)\", \n",
    "    ylabel = \"Distribuição Empírica JP Morgan Standardizada\")"
   ]
  },
  {
   "cell_type": "code",
   "execution_count": null,
   "id": "russian-tours",
   "metadata": {},
   "outputs": [],
   "source": [
    "qqplot(Normal(0, 1), PGP, xlabel=\"Distribuição Normal(0,1)\", \n",
    "    ylabel = \"Distribuição Empírica Procter & Gamble Standardizada\")"
   ]
  },
  {
   "cell_type": "code",
   "execution_count": null,
   "id": "plain-australian",
   "metadata": {},
   "outputs": [],
   "source": [
    "qqplot(Normal(0, 1), TeslaP, xlabel=\"Distribuição Normal(0,1)\", \n",
    "    ylabel = \"Distribuição Empírica Tesla Standardizada\")"
   ]
  },
  {
   "cell_type": "markdown",
   "id": "popular-classroom",
   "metadata": {},
   "source": [
    "Podemos constatar que a probabilidade de eventos extremos nos retornos da JP Morgam, Procter & Gamble e Tesla são bastante superiores ao que uma distribuição Normal sugeriria."
   ]
  },
  {
   "cell_type": "markdown",
   "id": "advised-driver",
   "metadata": {},
   "source": [
    "Podemos ver se a situção melhora com a utilização de uma distribuição com caudas mais pesadas como uma distribuição T-Studant standard, neste caso com 5 graus de liberdade. "
   ]
  },
  {
   "cell_type": "code",
   "execution_count": null,
   "id": "musical-likelihood",
   "metadata": {},
   "outputs": [],
   "source": [
    "qqplot(TDist(5), JPMorganP,  xlabel = \"Distribuição T-Student(5) Standard\",\n",
    "ylabel = \"Distribuição Empírica JP Morgan Standardizada\")\n",
    "# TDist(5) representa uma distribuição T-Student standard com 5 graus de liberdade"
   ]
  },
  {
   "cell_type": "code",
   "execution_count": null,
   "id": "spread-measure",
   "metadata": {},
   "outputs": [],
   "source": [
    "qqplot(TDist(5), PGP, xlabel = \"Distribuição T-Student(5) Standard\",\n",
    "ylabel = \"Distribuição Empírica Procter & Gamble Standardizada\")"
   ]
  },
  {
   "cell_type": "code",
   "execution_count": null,
   "id": "posted-visit",
   "metadata": {},
   "outputs": [],
   "source": [
    "qqplot(TDist(5), TeslaP, xlabel = \"Distribuição T-Student(5) Standard\",\n",
    "ylabel = \"Distribuição Empírica Tesla Standardizada\")"
   ]
  },
  {
   "cell_type": "markdown",
   "id": "extended-alliance",
   "metadata": {},
   "source": [
    "Os gráficos Q-Q sugerem que uma distribuição T-Student com um número baixo de graus de liberdade poderá representar melhor o perfil de retornos observado para as ações da JP Morgan, Procter & Gamble e Tesla do que uma distribuição Normal. "
   ]
  },
  {
   "cell_type": "markdown",
   "id": "incorrect-atlas",
   "metadata": {},
   "source": [
    "#### Testes de Normalidade"
   ]
  },
  {
   "cell_type": "markdown",
   "id": "popular-potential",
   "metadata": {},
   "source": [
    "Iremos efetuar o teste de [Jarque-Bera](https://en.wikipedia.org/wiki/Jarque–Bera_test) para a hipótese nula de que os vetores de retornos da JP Morgan, Procter & Gamble e Tesla são normalmente distribuídos. Função em Julia: ```JarqueBeraTest(retornos)```"
   ]
  },
  {
   "cell_type": "code",
   "execution_count": null,
   "id": "alpha-facial",
   "metadata": {},
   "outputs": [],
   "source": [
    "JarqueBeraTest(JPMorgan)"
   ]
  },
  {
   "cell_type": "code",
   "execution_count": null,
   "id": "resident-browser",
   "metadata": {},
   "outputs": [],
   "source": [
    "JarqueBeraTest(PG)"
   ]
  },
  {
   "cell_type": "code",
   "execution_count": null,
   "id": "innocent-mistake",
   "metadata": {},
   "outputs": [],
   "source": [
    "JarqueBeraTest(Tesla)"
   ]
  },
  {
   "cell_type": "markdown",
   "id": "contrary-choice",
   "metadata": {},
   "source": [
    "Para a JP Morgan, Procter & Gamble e Tesla a hipótese nula de normalidade dos retornos é fortemente rejeitada."
   ]
  },
  {
   "cell_type": "markdown",
   "id": "constitutional-argument",
   "metadata": {},
   "source": [
    "### Agrupamentos de volatilidade"
   ]
  },
  {
   "cell_type": "markdown",
   "id": "architectural-rolling",
   "metadata": {},
   "source": [
    "A existência de agrupamentos de volatilidade sugere que a utilização de volatilidades constantes possa conduzir a uma especificação errada para o processo dos retornos. Escolhas populares para ultrapassar este problema na previsão da volatilidade dos retornos são, a utilização de:\n",
    " * Estimação da volatilidade através de médias móveis ponderadas exponencialmente (EWMA)\n",
    " * Estimação da volatilidade através de modelos GARCH \n",
    " * Extração de volatilidades implícitas do mercado de instrumentos derivados"
   ]
  },
  {
   "cell_type": "markdown",
   "id": "amazing-installation",
   "metadata": {},
   "source": [
    "#### Teste para presença de agrupamentos de volatilidade\n",
    "\n",
    "Um teste estatístico formal para a presença de agrupamente de volatilidade é teste ARCH-LM de Engle. A estatística do teste segue uma distribuição chi-quadrado sob a hipótese nula de inexistência de agrupamentos de volatilidade. O teste de Engle pode ser realizado através da função: $\\texttt{ARCHLMTest}$(*retornos*,*lag*)"
   ]
  },
  {
   "cell_type": "code",
   "execution_count": null,
   "id": "annual-asthma",
   "metadata": {},
   "outputs": [],
   "source": [
    "ARCHLMTest(JPMorgan,1)"
   ]
  },
  {
   "cell_type": "code",
   "execution_count": null,
   "id": "careful-principle",
   "metadata": {},
   "outputs": [],
   "source": [
    "ARCHLMTest(PG,1)"
   ]
  },
  {
   "cell_type": "code",
   "execution_count": null,
   "id": "aboriginal-combining",
   "metadata": {},
   "outputs": [],
   "source": [
    "ARCHLMTest(Tesla,1)"
   ]
  },
  {
   "cell_type": "markdown",
   "id": "renewable-demonstration",
   "metadata": {},
   "source": [
    "Para qualquer uma das séries cronológicas de retornos da JP Morgan, Procter \\& Gamble e Tesla, rejeitamos a inexistência de agrupamento de volatilidade."
   ]
  },
  {
   "cell_type": "markdown",
   "id": "hazardous-parker",
   "metadata": {},
   "source": [
    "#### Simulação histórica clássica: médias móveis simples"
   ]
  },
  {
   "cell_type": "markdown",
   "id": "indirect-consortium",
   "metadata": {},
   "source": [
    "A determinação da volatilidade (ou variância) através de médias móveis simples corresponde a assumir-se que o contributo de cada observação para o seu valor é idêntico na janela de dados. Sendo ($m$) o número de dias na janela de dados utilizada e ($u_{t-k}$) a diferença entre o retorno ($r_{t-k}$) e a média de retornos ($\\mu$), temos\n",
    "\n",
    "$$\\sigma^2_t = \\frac{1}{m}\\sum_{k=1}^m u_{t-k}^2, \\qquad u_{t-k} = r_{t-k}-\\mu$$\n",
    "\n",
    "Todos os retornos quadráticos têm igual ponderação 1/m. Na volatilidade calculada através de médias móveis simples, um retorno muito recente não tem maior impacto no cálculo da volatilidade do que um retorno muito afastado."
   ]
  },
  {
   "cell_type": "markdown",
   "id": "unexpected-reasoning",
   "metadata": {},
   "source": [
    "**Exemplo**. Pretendemos estimar a volatilidade com médias móveis simples (MMS) para uma janela de dados correspondente ao último ano (252 observações)."
   ]
  },
  {
   "cell_type": "code",
   "execution_count": null,
   "id": "surprising-segment",
   "metadata": {},
   "outputs": [],
   "source": [
    "display(plot(JPMorgan[end-251:end], title = \"Retornos diários JP Morgan\", legend = false))\n",
    "display(plot(PG[end-251:end], title = \"Retornos diários Procter & Gamble\", legend = false))\n",
    "display(plot(Tesla[end-251:end], title = \"Retornos diários Tesla\", legend = false))\n",
    "println(\"Volatilidade(JPMorgan) = \", std(JPMorgan[end-251:end]))\n",
    "println(\"Volatilidade(Procter & Gamble) = \", std(PG[end-251:end]))\n",
    "println(\"Volatilidade(Tesla) = \", std(Tesla[end-251:end]))"
   ]
  },
  {
   "cell_type": "markdown",
   "id": "proof-romania",
   "metadata": {},
   "source": [
    "#### Médias móveis ponderadas exponencialmente"
   ]
  },
  {
   "cell_type": "markdown",
   "id": "italian-comparison",
   "metadata": {},
   "source": [
    "Nas médias móveis exponencialmente ponderadas, ou EWMA (*exponentially weighted moving average*), os retornos mais recentes têm uma mais elevada ponderação na determinação da variância. Os retornos quadráticos têm associado um parâmetro de alisamento $\\lambda \\in (0,1)$ que define ponderadores variáveis da seguinte forma,"
   ]
  },
  {
   "cell_type": "markdown",
   "id": "muslim-wrestling",
   "metadata": {},
   "source": [
    "$$\\sigma^2_t =\\sum_{k=1}^m(1-\\lambda)\\lambda^{k-1} \\,u_{t-k}^2, \\qquad u_{t-k} = r_{t-k}-\\mu $$ "
   ]
  },
  {
   "cell_type": "markdown",
   "id": "rotary-daily",
   "metadata": {},
   "source": [
    "Num documento influente, da [RiskMetrics](https://www.msci.com/documents/10199/5915b101-4206-4ba0-aee2-3449d5c7e95a), então parte da J.P.Morgan/Reuters, é sugerida a utilização do valor 0.94 para o parâmetro ($\\lambda$) no caso de retornos diários. Assim, teríamos uma ponderação do retorno quadrático de (1-0.94)$\\times$0.94$^0$ = 0.06 para a observação mais recente, para a observação seguinte de (1-0.94)$\\times$0.94$^1$ = 0.0564. O retorno quadrático do terceiro dia mais recente teria uma ponderação igual a (1-0.94)$\\times$0.94$^2$ = 0.053016."
   ]
  },
  {
   "cell_type": "markdown",
   "id": "actual-episode",
   "metadata": {},
   "source": [
    "A equação anterior pode ser expressa de uma forma recursiva equivalente através de,"
   ]
  },
  {
   "cell_type": "markdown",
   "id": "angry-industry",
   "metadata": {},
   "source": [
    "$$\\sigma^2_t = \\lambda\\,\\sigma^2_{t-1} + (1-\\lambda)\\,u^2_{t-1}, \\qquad u_{t-1} = r_{t-1}-\\mu $$"
   ]
  },
  {
   "cell_type": "markdown",
   "id": "miniature-taylor",
   "metadata": {},
   "source": [
    "Um parâmetro $\\lambda$ mais elevado induz um decaimento mais vagaroso nos ponderadores da série cronológica. Pelo contrário, se reduzirmos o parâmetro $\\lambda$ teremos um decaimento mais rápido."
   ]
  },
  {
   "cell_type": "code",
   "execution_count": null,
   "id": "broke-internship",
   "metadata": {},
   "outputs": [],
   "source": [
    "function EWMA(serie, lambda)\n",
    "    m = length(serie)\n",
    "    media = mean(serie)                 # calculamos a média dos retornos observados\n",
    "    σ2 = 0\n",
    "    for k in 1:m\n",
    "        σ2 += (1-lambda)*lambda^(k-1) * (serie[end-k+1] - media)^2\n",
    "    end\n",
    "    return sqrt(σ2)                     # retornamos a volatilidade\n",
    "end"
   ]
  },
  {
   "cell_type": "markdown",
   "id": "broke-attraction",
   "metadata": {},
   "source": [
    "**Exemplo 8.** Pretendemos comparar a volatilidade calculada por médias móveis simples com a volatilidade calculada através de médias móveis ponderadas exponencialmente (EWMA)"
   ]
  },
  {
   "cell_type": "code",
   "execution_count": null,
   "id": "circular-harassment",
   "metadata": {},
   "outputs": [],
   "source": [
    "println(\"σ(JP Morgan): MMS = \", std(JPMorgan), \n",
    "    \", EWMA = \", EWMA(JPMorgan, 0.94))\n",
    "\n",
    "println(\"σ(Procter & Gamble): MMS = \", std(PG), \n",
    "    \", EWMA = \", EWMA(PG, 0.94))\n",
    "\n",
    "println(\"σ(Tesla): MMS = \", std(Tesla), \n",
    "    \", EWMA = \", EWMA(Tesla, 0.94))"
   ]
  },
  {
   "cell_type": "markdown",
   "id": "twenty-place",
   "metadata": {},
   "source": [
    "A JP Morgan está atualmente num regime de volatilidade mais baixo do que a média histórica, para a Procter & Gamble os niveis de volatildade são semelhantes e para a Tesla o atual regime de volatilidade ainda é mais alto do que a média histórica, já de si bastante alto."
   ]
  },
  {
   "cell_type": "markdown",
   "id": "gentle-edinburgh",
   "metadata": {},
   "source": [
    "#### Modelos GARCH"
   ]
  },
  {
   "cell_type": "markdown",
   "id": "crazy-headline",
   "metadata": {},
   "source": [
    "Os modelos GARCH (*generalized autoregressive conditional heteroskedasticity*) são frequentemente utilizados para modelizar séries cronológicas financeiras que evidenciam volatilidade temporalmente variável e agrupamentos de volatilidade e podem-se incluir na família de modelos de volatilidade estocástica."
   ]
  },
  {
   "cell_type": "markdown",
   "id": "indie-athletics",
   "metadata": {},
   "source": [
    "O modelo GARCH(p,q), onde $p$ é a ordem dos termos GARCH em $\\sigma^2$ e $q$ é a ordem dos termos GARCH em $u^2$, é dado por,"
   ]
  },
  {
   "cell_type": "markdown",
   "id": "hazardous-speaking",
   "metadata": {},
   "source": [
    "$$\\sigma^2_t = \\omega +  \\sum_{k=1}^p \\beta_{k} \\sigma_{t-k}^2 + \\sum_{k=1}^q \\alpha_{k} u_{t-k}^2, \\qquad u_{t-k} = r_{t-k}-\\mu $$"
   ]
  },
  {
   "cell_type": "markdown",
   "id": "bacterial-omaha",
   "metadata": {},
   "source": [
    "Os modelos GARCH contituem uma generalização da equação utilizada pelo método EWMA. Envolvem também um processo de estimação repousando em hipóteses sobre a distribuição dos desvios dos retornos face à sua média, ao contrário do método EWMA. Os $p$ parâmetros $\\alpha_k$ e $q$ parâmetros $\\beta_k$ podem ser estimados econometricamente pela aplicação `ARCHModels` escrita em Julia. É o que faremos no exemplo seguinte."
   ]
  },
  {
   "cell_type": "markdown",
   "id": "bridal-alloy",
   "metadata": {},
   "source": [
    "**Exemplo 9.** Utilizando a aplicação `ARCHModels` pretendemos estimar modelos GARCH(1,1) para as séries cronológicas de retornos da JP Morgan, Procter & Gamble e Tesla e obter estimativas para a volatilidade, comparando estas com as volatilidades simples já anteriormente calculadas."
   ]
  },
  {
   "cell_type": "code",
   "execution_count": null,
   "id": "subjective-reducing",
   "metadata": {},
   "outputs": [],
   "source": [
    "gJPMorgan = fit(GARCH{1, 1}, JPMorgan)"
   ]
  },
  {
   "cell_type": "code",
   "execution_count": null,
   "id": "unauthorized-gateway",
   "metadata": {},
   "outputs": [],
   "source": [
    "gPG = fit(GARCH{1, 1}, PG)"
   ]
  },
  {
   "cell_type": "code",
   "execution_count": null,
   "id": "separate-fundamentals",
   "metadata": {},
   "outputs": [],
   "source": [
    "gTesla = fit(GARCH{1, 1}, Tesla)"
   ]
  },
  {
   "cell_type": "markdown",
   "id": "leading-thumbnail",
   "metadata": {},
   "source": [
    "Os parâmetros $\\hat{\\alpha}_1$ e $\\hat{\\beta}_1$ estimados para a equação de volatilidade são altamente significantes, novamente confirmando a presença de agrupamentos de volatilidade."
   ]
  },
  {
   "cell_type": "markdown",
   "id": "vulnerable-participant",
   "metadata": {},
   "source": [
    "Com base no modelo GARCH(1,1) estimado, vamos agora efetuar a previsão da volatilidade um-passo-à-frente para a JP Morgan, Procter & Gample e Tesla e comparar com a volatilidade calculada por médias móveis simples (MMS). A aplicação `ARCHModels` dispõe da função `predict`para previsão da volatilidade"
   ]
  },
  {
   "cell_type": "code",
   "execution_count": null,
   "id": "promising-monitor",
   "metadata": {},
   "outputs": [],
   "source": [
    "println(\"σ(JP Morgan): MMS = \", std(JPMorgan), \n",
    "    \", GARCH(1,1) = \", predict(gJPMorgan, :volatility))\n",
    "\n",
    "println(\"σ(Procter & Gamble): MMS = \", std(PG), \n",
    "    \", GARCH(1,1) = \", predict(gPG, :volatility))\n",
    "\n",
    "println(\"σ(Tesla): MMS = \", std(Tesla), \n",
    "    \", GARCH(1,1) = \", predict(gTesla, :volatility))"
   ]
  },
  {
   "cell_type": "markdown",
   "id": "regulation-wealth",
   "metadata": {},
   "source": [
    "Se pretendermos a previsão da volatilidade n-passos-à-frente, com n = 3 fazemos,"
   ]
  },
  {
   "cell_type": "code",
   "execution_count": null,
   "id": "curious-dublin",
   "metadata": {},
   "outputs": [],
   "source": [
    "predict.(gTesla, :volatility, 1:3)"
   ]
  },
  {
   "cell_type": "markdown",
   "id": "expanded-palestine",
   "metadata": {},
   "source": [
    "**Exemplo 10.** Vamos calcular o VaR assumindo que em vez de termos uma volatilidade constante na janela de dados dada pela pela média móvel simples ela é antes dada por um modelo GARCH(1,1) o qual, como vimos, é mais indicado para situações de agrupamento de volatilidade. O nível de signficância $\\alpha$ é igual a 5.0% e o valor da carteira, constituída apenas por ações da Tesla, é uma unidade monetária."
   ]
  },
  {
   "cell_type": "code",
   "execution_count": null,
   "id": "likely-india",
   "metadata": {},
   "outputs": [],
   "source": [
    "α = 0.05\n",
    "V = 1\n",
    "VaRs(gTesla, α) * V"
   ]
  },
  {
   "cell_type": "markdown",
   "id": "extreme-awareness",
   "metadata": {},
   "source": [
    "Podemos também ver num gráfico as rendibilidades históricas observadas confrontadas com o valor do VaR para a Tesla. Os retornos estão apresentados como $-r_t$, isto é um retorno de -0.02 é uma perda de 0.02. O VaR vai agora evoluindo à medida que as estimativas da volatilidade um-passo-à-frente do modelo GARCH(1,1) se vão alterando"
   ]
  },
  {
   "cell_type": "code",
   "execution_count": null,
   "id": "electronic-delaware",
   "metadata": {},
   "outputs": [],
   "source": [
    "plot(-Tesla, legend=:none, ylabel=\"Perdas\")\n",
    "plot!(VaRs(gTesla, 0.05) * V, color=:purple)      # VaR com α = 5.0%\n",
    "plot!(VaRs(gTesla, 0.01) * V, color=:green)       # VaR com α = 1.0%"
   ]
  },
  {
   "cell_type": "markdown",
   "id": "color-hands",
   "metadata": {},
   "source": [
    "### Dependência não-linear"
   ]
  },
  {
   "cell_type": "markdown",
   "id": "elder-tower",
   "metadata": {},
   "source": [
    "A existência de dependência não linear, em particular o fato da correlação entre séries de retornos não ser constante, sendo maior em momentos de maior turbulência do mercado, deve ser levada em conta aquando da modelização do risco de perda em portfólios."
   ]
  }
 ],
 "metadata": {
  "kernelspec": {
   "display_name": "Julia 1.7.0",
   "language": "julia",
   "name": "julia-1.7"
  },
  "language_info": {
   "file_extension": ".jl",
   "mimetype": "application/julia",
   "name": "julia",
   "version": "1.7.0"
  }
 },
 "nbformat": 4,
 "nbformat_minor": 5
}
