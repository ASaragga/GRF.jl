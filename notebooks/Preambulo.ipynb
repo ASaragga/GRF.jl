{
 "cells": [
  {
   "cell_type": "markdown",
   "metadata": {},
   "source": [
    "# Módulo 0 - Preâmbulo"
   ]
  },
  {
   "cell_type": "code",
   "execution_count": 6,
   "metadata": {},
   "outputs": [],
   "source": [
    "# Dados\n",
    "using CSV              # Gravação/leitura de ficheiros em formato CSV\n",
    "using DataFrames       # Tabelas\n",
    "using HTTP             # Cliente HTTP, para download de dados de Yahoo.Finance\n",
    "using JSON             # Formato de intercâmbio de dados, para download dados Yahoo.Finance\n",
    "using Dates            # Datas"
   ]
  },
  {
   "cell_type": "code",
   "execution_count": 7,
   "metadata": {},
   "outputs": [],
   "source": [
    "# import Pkg\n",
    "# Pkg.add(url = \"https://github.com/ASaragga/GRF.jl\")\n",
    "using GRF"
   ]
  },
  {
   "cell_type": "markdown",
   "metadata": {},
   "source": [
    "#### Download cotações fecho de Yahoo.Finance e cálculo dos retornos (logarítmicos)"
   ]
  },
  {
   "cell_type": "code",
   "execution_count": 8,
   "metadata": {},
   "outputs": [
    {
     "name": "stdout",
     "output_type": "stream",
     "text": [
      "Concluído: GM"
     ]
    }
   ],
   "source": [
    "GMc = GRF.yahoo(\"GM\", Date(2020,12,31), Date(2022,3,31))  # Cotações em GMc\n",
    "GMr = GRF.retornos(GMc, :log);                            # Retornos em GMr"
   ]
  },
  {
   "cell_type": "code",
   "execution_count": 9,
   "metadata": {},
   "outputs": [
    {
     "name": "stdout",
     "output_type": "stream",
     "text": [
      "Concluído: AAPL DIS IBM MCD ^GSPC"
     ]
    },
    {
     "data": {
      "text/html": [
       "<div class=\"data-frame\"><p>5 rows × 6 columns</p><table class=\"data-frame\"><thead><tr><th></th><th>Data</th><th>AAPL</th><th>DIS</th><th>IBM</th><th>MCD</th><th>^GSPC</th></tr><tr><th></th><th title=\"Date\">Date</th><th title=\"Union{Missing, Float64}\">Float64?</th><th title=\"Union{Missing, Float64}\">Float64?</th><th title=\"Union{Missing, Float64}\">Float64?</th><th title=\"Union{Missing, Float64}\">Float64?</th><th title=\"Union{Missing, Float64}\">Float64?</th></tr></thead><tbody><tr><th>1</th><td>2020-12-31</td><td>131.709</td><td>181.18</td><td>113.028</td><td>208.616</td><td>3756.07</td></tr><tr><th>2</th><td>2021-01-04</td><td>128.453</td><td>177.68</td><td>111.286</td><td>204.378</td><td>3700.65</td></tr><tr><th>3</th><td>2021-01-05</td><td>130.042</td><td>178.44</td><td>113.261</td><td>205.603</td><td>3726.86</td></tr><tr><th>4</th><td>2021-01-06</td><td>125.664</td><td>179.12</td><td>116.09</td><td>205.136</td><td>3748.14</td></tr><tr><th>5</th><td>2021-01-07</td><td>129.952</td><td>178.58</td><td>115.82</td><td>206.089</td><td>3803.79</td></tr></tbody></table></div>"
      ],
      "text/latex": [
       "\\begin{tabular}{r|cccccc}\n",
       "\t& Data & AAPL & DIS & IBM & MCD & \\^GSPC\\\\\n",
       "\t\\hline\n",
       "\t& Date & Float64? & Float64? & Float64? & Float64? & Float64?\\\\\n",
       "\t\\hline\n",
       "\t1 & 2020-12-31 & 131.709 & 181.18 & 113.028 & 208.616 & 3756.07 \\\\\n",
       "\t2 & 2021-01-04 & 128.453 & 177.68 & 111.286 & 204.378 & 3700.65 \\\\\n",
       "\t3 & 2021-01-05 & 130.042 & 178.44 & 113.261 & 205.603 & 3726.86 \\\\\n",
       "\t4 & 2021-01-06 & 125.664 & 179.12 & 116.09 & 205.136 & 3748.14 \\\\\n",
       "\t5 & 2021-01-07 & 129.952 & 178.58 & 115.82 & 206.089 & 3803.79 \\\\\n",
       "\\end{tabular}\n"
      ],
      "text/plain": [
       "\u001b[1m5×6 DataFrame\u001b[0m\n",
       "\u001b[1m Row \u001b[0m│\u001b[1m Data       \u001b[0m\u001b[1m AAPL     \u001b[0m\u001b[1m DIS      \u001b[0m\u001b[1m IBM      \u001b[0m\u001b[1m MCD      \u001b[0m\u001b[1m ^GSPC    \u001b[0m\n",
       "\u001b[1m     \u001b[0m│\u001b[90m Date       \u001b[0m\u001b[90m Float64? \u001b[0m\u001b[90m Float64? \u001b[0m\u001b[90m Float64? \u001b[0m\u001b[90m Float64? \u001b[0m\u001b[90m Float64? \u001b[0m\n",
       "─────┼──────────────────────────────────────────────────────────────\n",
       "   1 │ 2020-12-31   131.709    181.18   113.028   208.616   3756.07\n",
       "   2 │ 2021-01-04   128.453    177.68   111.286   204.378   3700.65\n",
       "   3 │ 2021-01-05   130.042    178.44   113.261   205.603   3726.86\n",
       "   4 │ 2021-01-06   125.664    179.12   116.09    205.136   3748.14\n",
       "   5 │ 2021-01-07   129.952    178.58   115.82    206.089   3803.79"
      ]
     },
     "execution_count": 9,
     "metadata": {},
     "output_type": "execute_result"
    }
   ],
   "source": [
    "DIVc = GRF.yahoo([\"AAPL\", \"DIS\", \"IBM\", \"MCD\", \"^GSPC\"], Date(2020,12,31), Date(2022,3,31)) \n",
    "first(DIVc,5)"
   ]
  },
  {
   "cell_type": "code",
   "execution_count": 10,
   "metadata": {},
   "outputs": [
    {
     "data": {
      "text/html": [
       "<div class=\"data-frame\"><p>5 rows × 6 columns</p><table class=\"data-frame\"><thead><tr><th></th><th>Data</th><th>AAPL</th><th>DIS</th><th>IBM</th><th>MCD</th><th>^GSPC</th></tr><tr><th></th><th title=\"Date\">Date</th><th title=\"Union{Missing, Float64}\">Float64?</th><th title=\"Union{Missing, Float64}\">Float64?</th><th title=\"Union{Missing, Float64}\">Float64?</th><th title=\"Union{Missing, Float64}\">Float64?</th><th title=\"Union{Missing, Float64}\">Float64?</th></tr></thead><tbody><tr><th>1</th><td>2021-01-04</td><td>-0.0250299</td><td>-0.0195068</td><td>-0.0155315</td><td>-0.0205281</td><td>-0.0148648</td></tr><tr><th>2</th><td>2021-01-05</td><td>0.0122879</td><td>0.00426829</td><td>0.0175948</td><td>0.00597587</td><td>0.00705763</td></tr><tr><th>3</th><td>2021-01-06</td><td>-0.0342411</td><td>0.00380352</td><td>0.0246655</td><td>-0.0022723</td><td>0.0056936</td></tr><tr><th>4</th><td>2021-01-07</td><td>0.033554</td><td>-0.00301925</td><td>-0.00232313</td><td>0.00463377</td><td>0.0147383</td></tr><tr><th>5</th><td>2021-01-08</td><td>0.00859404</td><td>0.000615784</td><td>-0.00357245</td><td>0.0181844</td><td>0.00547684</td></tr></tbody></table></div>"
      ],
      "text/latex": [
       "\\begin{tabular}{r|cccccc}\n",
       "\t& Data & AAPL & DIS & IBM & MCD & \\^GSPC\\\\\n",
       "\t\\hline\n",
       "\t& Date & Float64? & Float64? & Float64? & Float64? & Float64?\\\\\n",
       "\t\\hline\n",
       "\t1 & 2021-01-04 & -0.0250299 & -0.0195068 & -0.0155315 & -0.0205281 & -0.0148648 \\\\\n",
       "\t2 & 2021-01-05 & 0.0122879 & 0.00426829 & 0.0175948 & 0.00597587 & 0.00705763 \\\\\n",
       "\t3 & 2021-01-06 & -0.0342411 & 0.00380352 & 0.0246655 & -0.0022723 & 0.0056936 \\\\\n",
       "\t4 & 2021-01-07 & 0.033554 & -0.00301925 & -0.00232313 & 0.00463377 & 0.0147383 \\\\\n",
       "\t5 & 2021-01-08 & 0.00859404 & 0.000615784 & -0.00357245 & 0.0181844 & 0.00547684 \\\\\n",
       "\\end{tabular}\n"
      ],
      "text/plain": [
       "\u001b[1m5×6 DataFrame\u001b[0m\n",
       "\u001b[1m Row \u001b[0m│\u001b[1m Data       \u001b[0m\u001b[1m AAPL        \u001b[0m\u001b[1m DIS          \u001b[0m\u001b[1m IBM         \u001b[0m\u001b[1m MCD         \u001b[0m\u001b[1m ^GSPC \u001b[0m ⋯\n",
       "\u001b[1m     \u001b[0m│\u001b[90m Date       \u001b[0m\u001b[90m Float64?    \u001b[0m\u001b[90m Float64?     \u001b[0m\u001b[90m Float64?    \u001b[0m\u001b[90m Float64?    \u001b[0m\u001b[90m Float6\u001b[0m ⋯\n",
       "─────┼──────────────────────────────────────────────────────────────────────────\n",
       "   1 │ 2021-01-04  -0.0250299   -0.0195068    -0.0155315   -0.0205281   -0.014 ⋯\n",
       "   2 │ 2021-01-05   0.0122879    0.00426829    0.0175948    0.00597587   0.007\n",
       "   3 │ 2021-01-06  -0.0342411    0.00380352    0.0246655   -0.0022723    0.005\n",
       "   4 │ 2021-01-07   0.033554    -0.00301925   -0.00232313   0.00463377   0.014\n",
       "   5 │ 2021-01-08   0.00859404   0.000615784  -0.00357245   0.0181844    0.005 ⋯\n",
       "\u001b[36m                                                                1 column omitted\u001b[0m"
      ]
     },
     "execution_count": 10,
     "metadata": {},
     "output_type": "execute_result"
    }
   ],
   "source": [
    "DIVr = GRF.retornos(DIVc,:log)\n",
    "first(DIVr,5)"
   ]
  }
 ],
 "metadata": {
  "kernelspec": {
   "display_name": "Julia 1.7.0",
   "language": "julia",
   "name": "julia-1.7"
  },
  "language_info": {
   "file_extension": ".jl",
   "mimetype": "application/julia",
   "name": "julia",
   "version": "1.7.0"
  }
 },
 "nbformat": 4,
 "nbformat_minor": 4
}
